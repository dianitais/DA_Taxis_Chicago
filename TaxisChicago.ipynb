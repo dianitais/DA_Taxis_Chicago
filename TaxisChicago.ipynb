{
 "cells": [
  {
   "cell_type": "markdown",
   "metadata": {},
   "source": [
    "# Descripción del proyecto\n",
    "\n",
    "En este proyecto, estamos colaborando con Zuber, una nueva empresa de viajes compartidos que se está lanzando en Chicago. Como analistas, nuestra tarea principal es identificar patrones en los datos disponibles para comprender mejor las preferencias de los pasajeros y los factores externos que puedan influir en sus decisiones de viaje.\n",
    "\n",
    "Uno de los objetivos clave es analizar cómo las condiciones externas, como el clima, afectan la frecuencia de los viajes. Además, se realizará un análisis de los competidores para obtener información valiosa que nos permita posicionar mejor a Zuber en el mercado. También se probará una hipótesis sobre el impacto de las condiciones climáticas en la duración y frecuencia de los viajes, lo que podría tener implicaciones importantes para la estrategia operativa de la empresa."
   ]
  },
  {
   "cell_type": "markdown",
   "metadata": {},
   "source": [
    "## Inicialización"
   ]
  },
  {
   "cell_type": "code",
   "execution_count": 1,
   "metadata": {},
   "outputs": [],
   "source": [
    "# Importar librerías \n",
    "import pandas as pd\n",
    "import matplotlib.pyplot as plt\n",
    "from scipy import stats\n",
    "from IPython.display import display, HTML"
   ]
  },
  {
   "cell_type": "markdown",
   "metadata": {},
   "source": [
    "## Cargar datos"
   ]
  },
  {
   "cell_type": "code",
   "execution_count": 2,
   "metadata": {},
   "outputs": [],
   "source": [
    "# Carga los archivos de datos en diferentes DataFrames\n",
    "df_cabs = pd.read_csv('/datasets/project_sql_result_01.csv')\n",
    "df_dropoff_location = pd.read_csv('/datasets/project_sql_result_04.csv')\n",
    "df_trips = pd.read_csv('/datasets/project_sql_result_07.csv')"
   ]
  },
  {
   "cell_type": "markdown",
   "metadata": {},
   "source": [
    "## Información de los Datos"
   ]
  },
  {
   "cell_type": "markdown",
   "metadata": {},
   "source": [
    "### DataFrame de Compañías de Taxis"
   ]
  },
  {
   "cell_type": "code",
   "execution_count": 3,
   "metadata": {},
   "outputs": [
    {
     "data": {
      "text/html": [
       "<div>\n",
       "<style scoped>\n",
       "    .dataframe tbody tr th:only-of-type {\n",
       "        vertical-align: middle;\n",
       "    }\n",
       "\n",
       "    .dataframe tbody tr th {\n",
       "        vertical-align: top;\n",
       "    }\n",
       "\n",
       "    .dataframe thead th {\n",
       "        text-align: right;\n",
       "    }\n",
       "</style>\n",
       "<table border=\"1\" class=\"dataframe\">\n",
       "  <thead>\n",
       "    <tr style=\"text-align: right;\">\n",
       "      <th></th>\n",
       "      <th>company_name</th>\n",
       "      <th>trips_amount</th>\n",
       "    </tr>\n",
       "  </thead>\n",
       "  <tbody>\n",
       "    <tr>\n",
       "      <th>0</th>\n",
       "      <td>Flash Cab</td>\n",
       "      <td>19558</td>\n",
       "    </tr>\n",
       "    <tr>\n",
       "      <th>1</th>\n",
       "      <td>Taxi Affiliation Services</td>\n",
       "      <td>11422</td>\n",
       "    </tr>\n",
       "    <tr>\n",
       "      <th>2</th>\n",
       "      <td>Medallion Leasing</td>\n",
       "      <td>10367</td>\n",
       "    </tr>\n",
       "    <tr>\n",
       "      <th>3</th>\n",
       "      <td>Yellow Cab</td>\n",
       "      <td>9888</td>\n",
       "    </tr>\n",
       "    <tr>\n",
       "      <th>4</th>\n",
       "      <td>Taxi Affiliation Service Yellow</td>\n",
       "      <td>9299</td>\n",
       "    </tr>\n",
       "  </tbody>\n",
       "</table>\n",
       "</div>"
      ],
      "text/plain": [
       "                      company_name  trips_amount\n",
       "0                        Flash Cab         19558\n",
       "1        Taxi Affiliation Services         11422\n",
       "2                Medallion Leasing         10367\n",
       "3                       Yellow Cab          9888\n",
       "4  Taxi Affiliation Service Yellow          9299"
      ]
     },
     "execution_count": 3,
     "metadata": {},
     "output_type": "execute_result"
    }
   ],
   "source": [
    "# Obtener las primeras filas de la tabla df_cabs\n",
    "df_cabs.head()"
   ]
  },
  {
   "cell_type": "code",
   "execution_count": 4,
   "metadata": {},
   "outputs": [
    {
     "data": {
      "text/html": [
       "<div>\n",
       "<style scoped>\n",
       "    .dataframe tbody tr th:only-of-type {\n",
       "        vertical-align: middle;\n",
       "    }\n",
       "\n",
       "    .dataframe tbody tr th {\n",
       "        vertical-align: top;\n",
       "    }\n",
       "\n",
       "    .dataframe thead th {\n",
       "        text-align: right;\n",
       "    }\n",
       "</style>\n",
       "<table border=\"1\" class=\"dataframe\">\n",
       "  <thead>\n",
       "    <tr style=\"text-align: right;\">\n",
       "      <th></th>\n",
       "      <th>trips_amount</th>\n",
       "    </tr>\n",
       "  </thead>\n",
       "  <tbody>\n",
       "    <tr>\n",
       "      <th>count</th>\n",
       "      <td>64.000000</td>\n",
       "    </tr>\n",
       "    <tr>\n",
       "      <th>mean</th>\n",
       "      <td>2145.484375</td>\n",
       "    </tr>\n",
       "    <tr>\n",
       "      <th>std</th>\n",
       "      <td>3812.310186</td>\n",
       "    </tr>\n",
       "    <tr>\n",
       "      <th>min</th>\n",
       "      <td>2.000000</td>\n",
       "    </tr>\n",
       "    <tr>\n",
       "      <th>25%</th>\n",
       "      <td>20.750000</td>\n",
       "    </tr>\n",
       "    <tr>\n",
       "      <th>50%</th>\n",
       "      <td>178.500000</td>\n",
       "    </tr>\n",
       "    <tr>\n",
       "      <th>75%</th>\n",
       "      <td>2106.500000</td>\n",
       "    </tr>\n",
       "    <tr>\n",
       "      <th>max</th>\n",
       "      <td>19558.000000</td>\n",
       "    </tr>\n",
       "  </tbody>\n",
       "</table>\n",
       "</div>"
      ],
      "text/plain": [
       "       trips_amount\n",
       "count     64.000000\n",
       "mean    2145.484375\n",
       "std     3812.310186\n",
       "min        2.000000\n",
       "25%       20.750000\n",
       "50%      178.500000\n",
       "75%     2106.500000\n",
       "max    19558.000000"
      ]
     },
     "execution_count": 4,
     "metadata": {},
     "output_type": "execute_result"
    }
   ],
   "source": [
    "# Obtener la información general sobre nuestros datos\n",
    "df_cabs.describe()"
   ]
  },
  {
   "cell_type": "code",
   "execution_count": 5,
   "metadata": {},
   "outputs": [
    {
     "name": "stdout",
     "output_type": "stream",
     "text": [
      "<class 'pandas.core.frame.DataFrame'>\n",
      "RangeIndex: 64 entries, 0 to 63\n",
      "Data columns (total 2 columns):\n",
      " #   Column        Non-Null Count  Dtype \n",
      "---  ------        --------------  ----- \n",
      " 0   company_name  64 non-null     object\n",
      " 1   trips_amount  64 non-null     int64 \n",
      "dtypes: int64(1), object(1)\n",
      "memory usage: 1.1+ KB\n"
     ]
    }
   ],
   "source": [
    "# Obtener más información\n",
    "df_cabs.info()"
   ]
  },
  {
   "cell_type": "code",
   "execution_count": 6,
   "metadata": {},
   "outputs": [
    {
     "data": {
      "text/plain": [
       "0"
      ]
     },
     "execution_count": 6,
     "metadata": {},
     "output_type": "execute_result"
    }
   ],
   "source": [
    "# Verificar si hay duplicados\n",
    "df_cabs.duplicated().sum()"
   ]
  },
  {
   "cell_type": "markdown",
   "metadata": {},
   "source": [
    "**Descripción del Dataset** `df_cabs`\n",
    "\n",
    "Este dataset está compuesto por 64 filas y 2 columnas:\n",
    "\n",
    "- `company_name`: Nombre de la empresa de taxis.\n",
    "- `trips_amount`: Número de viajes que de cada compañía de taxis el 15 y 16 de noviembre de 2017.<br><br>\n",
    "\n",
    "→ No hay valores nulos en las columnas, ya que todas las filas contienen datos en ambas columnas.<br>\n",
    "→ No se encontraron filas duplicadas en el dataset.<br>\n",
    "→ La columna trips_amount muestra que hay compañías con un número de viajes que varía considerablemente. El número mínimo de viajes es 2, mientras que el máximo es 19,558.<br>\n",
    "→ La media de los viajes por compañía es 2,145 viajes, con una desviación estándar bastante alta (3,812), lo que sugiere una gran dispersión en los datos.<br>\n",
    "→ La mitad de las compañías reportan menos de 179 viajes, mientras que el 75% de las compañías tiene menos de 2,106 viajes, lo que indica una distribución sesgada con algunas compañías reportando muchos más viajes que otras.<br><br>\n",
    "\n",
    "***Conclusiones:***\n",
    "El dataset no presenta errores evidentes en cuanto a duplicados o valores nulos, y provee información útil para entender la cantidad de viajes realizados por cada compañía de taxis. La gran variabilidad en el número de viajes sugiere que algunas compañías son significativamente más activas que otras, lo cual puede ser relevante para el análisis posterior."
   ]
  },
  {
   "cell_type": "markdown",
   "metadata": {},
   "source": [
    "### DataFrame de Barrios de Chicago"
   ]
  },
  {
   "cell_type": "code",
   "execution_count": 7,
   "metadata": {},
   "outputs": [
    {
     "data": {
      "text/html": [
       "<div>\n",
       "<style scoped>\n",
       "    .dataframe tbody tr th:only-of-type {\n",
       "        vertical-align: middle;\n",
       "    }\n",
       "\n",
       "    .dataframe tbody tr th {\n",
       "        vertical-align: top;\n",
       "    }\n",
       "\n",
       "    .dataframe thead th {\n",
       "        text-align: right;\n",
       "    }\n",
       "</style>\n",
       "<table border=\"1\" class=\"dataframe\">\n",
       "  <thead>\n",
       "    <tr style=\"text-align: right;\">\n",
       "      <th></th>\n",
       "      <th>dropoff_location_name</th>\n",
       "      <th>average_trips</th>\n",
       "    </tr>\n",
       "  </thead>\n",
       "  <tbody>\n",
       "    <tr>\n",
       "      <th>0</th>\n",
       "      <td>Loop</td>\n",
       "      <td>10727.466667</td>\n",
       "    </tr>\n",
       "    <tr>\n",
       "      <th>1</th>\n",
       "      <td>River North</td>\n",
       "      <td>9523.666667</td>\n",
       "    </tr>\n",
       "    <tr>\n",
       "      <th>2</th>\n",
       "      <td>Streeterville</td>\n",
       "      <td>6664.666667</td>\n",
       "    </tr>\n",
       "    <tr>\n",
       "      <th>3</th>\n",
       "      <td>West Loop</td>\n",
       "      <td>5163.666667</td>\n",
       "    </tr>\n",
       "    <tr>\n",
       "      <th>4</th>\n",
       "      <td>O'Hare</td>\n",
       "      <td>2546.900000</td>\n",
       "    </tr>\n",
       "    <tr>\n",
       "      <th>5</th>\n",
       "      <td>Lake View</td>\n",
       "      <td>2420.966667</td>\n",
       "    </tr>\n",
       "    <tr>\n",
       "      <th>6</th>\n",
       "      <td>Grant Park</td>\n",
       "      <td>2068.533333</td>\n",
       "    </tr>\n",
       "    <tr>\n",
       "      <th>7</th>\n",
       "      <td>Museum Campus</td>\n",
       "      <td>1510.000000</td>\n",
       "    </tr>\n",
       "    <tr>\n",
       "      <th>8</th>\n",
       "      <td>Gold Coast</td>\n",
       "      <td>1364.233333</td>\n",
       "    </tr>\n",
       "    <tr>\n",
       "      <th>9</th>\n",
       "      <td>Sheffield &amp; DePaul</td>\n",
       "      <td>1259.766667</td>\n",
       "    </tr>\n",
       "  </tbody>\n",
       "</table>\n",
       "</div>"
      ],
      "text/plain": [
       "  dropoff_location_name  average_trips\n",
       "0                  Loop   10727.466667\n",
       "1           River North    9523.666667\n",
       "2         Streeterville    6664.666667\n",
       "3             West Loop    5163.666667\n",
       "4                O'Hare    2546.900000\n",
       "5             Lake View    2420.966667\n",
       "6            Grant Park    2068.533333\n",
       "7         Museum Campus    1510.000000\n",
       "8            Gold Coast    1364.233333\n",
       "9    Sheffield & DePaul    1259.766667"
      ]
     },
     "execution_count": 7,
     "metadata": {},
     "output_type": "execute_result"
    }
   ],
   "source": [
    "# Obtener las primeras filas de la tabla df_dropoff_location\n",
    "# Identifico los 10 principales barrios en términos de finalización\n",
    "df_dropoff_location.head(10)"
   ]
  },
  {
   "cell_type": "code",
   "execution_count": 8,
   "metadata": {},
   "outputs": [
    {
     "data": {
      "text/html": [
       "<div>\n",
       "<style scoped>\n",
       "    .dataframe tbody tr th:only-of-type {\n",
       "        vertical-align: middle;\n",
       "    }\n",
       "\n",
       "    .dataframe tbody tr th {\n",
       "        vertical-align: top;\n",
       "    }\n",
       "\n",
       "    .dataframe thead th {\n",
       "        text-align: right;\n",
       "    }\n",
       "</style>\n",
       "<table border=\"1\" class=\"dataframe\">\n",
       "  <thead>\n",
       "    <tr style=\"text-align: right;\">\n",
       "      <th></th>\n",
       "      <th>average_trips</th>\n",
       "    </tr>\n",
       "  </thead>\n",
       "  <tbody>\n",
       "    <tr>\n",
       "      <th>count</th>\n",
       "      <td>94.000000</td>\n",
       "    </tr>\n",
       "    <tr>\n",
       "      <th>mean</th>\n",
       "      <td>599.953728</td>\n",
       "    </tr>\n",
       "    <tr>\n",
       "      <th>std</th>\n",
       "      <td>1714.591098</td>\n",
       "    </tr>\n",
       "    <tr>\n",
       "      <th>min</th>\n",
       "      <td>1.800000</td>\n",
       "    </tr>\n",
       "    <tr>\n",
       "      <th>25%</th>\n",
       "      <td>14.266667</td>\n",
       "    </tr>\n",
       "    <tr>\n",
       "      <th>50%</th>\n",
       "      <td>52.016667</td>\n",
       "    </tr>\n",
       "    <tr>\n",
       "      <th>75%</th>\n",
       "      <td>298.858333</td>\n",
       "    </tr>\n",
       "    <tr>\n",
       "      <th>max</th>\n",
       "      <td>10727.466667</td>\n",
       "    </tr>\n",
       "  </tbody>\n",
       "</table>\n",
       "</div>"
      ],
      "text/plain": [
       "       average_trips\n",
       "count      94.000000\n",
       "mean      599.953728\n",
       "std      1714.591098\n",
       "min         1.800000\n",
       "25%        14.266667\n",
       "50%        52.016667\n",
       "75%       298.858333\n",
       "max     10727.466667"
      ]
     },
     "execution_count": 8,
     "metadata": {},
     "output_type": "execute_result"
    }
   ],
   "source": [
    "# Obtener la información general sobre nuestros datos\n",
    "df_dropoff_location.describe()"
   ]
  },
  {
   "cell_type": "code",
   "execution_count": 9,
   "metadata": {},
   "outputs": [
    {
     "name": "stdout",
     "output_type": "stream",
     "text": [
      "<class 'pandas.core.frame.DataFrame'>\n",
      "RangeIndex: 94 entries, 0 to 93\n",
      "Data columns (total 2 columns):\n",
      " #   Column                 Non-Null Count  Dtype  \n",
      "---  ------                 --------------  -----  \n",
      " 0   dropoff_location_name  94 non-null     object \n",
      " 1   average_trips          94 non-null     float64\n",
      "dtypes: float64(1), object(1)\n",
      "memory usage: 1.6+ KB\n"
     ]
    }
   ],
   "source": [
    "# Obtener más información\n",
    "df_dropoff_location.info()"
   ]
  },
  {
   "cell_type": "code",
   "execution_count": 10,
   "metadata": {},
   "outputs": [
    {
     "data": {
      "text/plain": [
       "0"
      ]
     },
     "execution_count": 10,
     "metadata": {},
     "output_type": "execute_result"
    }
   ],
   "source": [
    "# Verificar si hay duplicados\n",
    "df_dropoff_location.duplicated().sum()"
   ]
  },
  {
   "cell_type": "markdown",
   "metadata": {},
   "source": [
    "**Descripción del Dataset** `df_dropoff_location`\n",
    "\n",
    "Este dataset está compuesto por 94 filas y 2 columnas:\n",
    "\n",
    "- `dropoff_location_name`: Barrios de Chicago donde finalizaron los viajes.\n",
    "- `average_trips`: El promedio de viajes que terminaron en cada barrio en noviembre de 2017.\n",
    "\n",
    "→ No hay valores nulos en las columnas, ya que todas las filas contienen datos en ambas columnas.<br> \n",
    "→ No se encontraron filas duplicadas en el dataset.<br> \n",
    "→ La columna dropoff_location_name muestra que las ubicaciones de destino tienen un promedio de viajes que varía considerablemente. El número mínimo de viajes es 1.8, mientras que el máximo es 10,727.47.<br> \n",
    "→ La media de los viajes es de aproximadamente 600 viajes, con una desviación estándar alta (1,715), lo que sugiere una gran dispersión en los datos.<br> \n",
    "→ La mitad de las ubicaciones reportan menos de 52 viajes, mientras que el 75% tiene menos de 299 viajes, indicando que algunas ubicaciones son mucho más populares que otras.<br><br>\n",
    "\n",
    "**Conclusiones:** \n",
    "El dataset no presenta errores evidentes en cuanto a duplicados o valores nulos, y proporciona información valiosa sobre la frecuencia de los viajes hacia diferentes ubicaciones de destino. La alta variabilidad en el número de viajes indica que algunas ubicaciones son significativamente más frecuentadas que otras, lo que puede ser relevante para la planificación y optimización de rutas en el servicio de viajes compartidos."
   ]
  },
  {
   "cell_type": "code",
   "execution_count": 11,
   "metadata": {},
   "outputs": [
    {
     "data": {
      "image/png": "[encoded data removed]",
      "text/plain": [
       "<Figure size 1000x600 with 1 Axes>"
      ]
     },
     "metadata": {},
     "output_type": "display_data"
    }
   ],
   "source": [
    "# Crear el gráfico de barras para las empresas de taxis\n",
    "df_cabs_top = df_cabs.head(10)\n",
    "plt.figure(figsize=(10, 6))\n",
    "plt.bar(df_cabs_top['company_name'], df_cabs_top['trips_amount'], color='blue')\n",
    "\n",
    "# Añadir etiquetas y título\n",
    "plt.xlabel('Company Name')\n",
    "plt.ylabel('Number of Trips')\n",
    "plt.title('Number of Trips per Taxi Company (Nov 15-16, 2017)')\n",
    "plt.xticks(rotation=90)  # Rotar los nombres de las compañías si son muchos o largos\n",
    "\n",
    "# Mostrar el gráfico\n",
    "plt.tight_layout()  # Ajustar el gráfico para evitar solapamiento\n",
    "plt.show()"
   ]
  },
  {
   "cell_type": "markdown",
   "metadata": {},
   "source": [
    "*Flash Cab* es claramente la compañía con más viajes, con una cantidad significativamente mayor que las demás, superando los 17,500 viajes, domina el mercado durante estos dos días específicos, con una ventaja significativa sobre las demás compañías, en términos de cantidad de viajes.\n",
    "\n",
    "*Taxi Affiliation Services, Medallion Leasing y Yellow Cab*, tienen un número similar de viajes, alrededor de 10,000 a 12,000, pero están bastante por debajo de *Flash Cab*.\n",
    "\n",
    "Las compañías que siguen, como *City Service, Sun Taxi y Blue Ribbon Taxi Association Inc.*, tienen menos de 10,000 viajes, con una diferencia más marcada a medida que avanzamos en la lista."
   ]
  },
  {
   "cell_type": "code",
   "execution_count": 12,
   "metadata": {},
   "outputs": [
    {
     "data": {
      "image/png": "[encoded data removed]",
      "text/plain": [
       "<Figure size 1000x600 with 1 Axes>"
      ]
     },
     "metadata": {},
     "output_type": "display_data"
    }
   ],
   "source": [
    "# Crear el gráfico de barras para los barrios de Chicago\n",
    "df_dropoff_location_top = df_dropoff_location.head(10)\n",
    "plt.figure(figsize=(10, 6))\n",
    "plt.bar(df_dropoff_location_top['dropoff_location_name'], df_dropoff_location_top['average_trips'], color='teal')\n",
    "\n",
    "# Añadir etiquetas y título\n",
    "plt.xlabel('Chicago Neighborhoods')\n",
    "plt.ylabel('Average Number of Trips')\n",
    "plt.title('Average Trips per Neighborhood in November 2017')\n",
    "plt.xticks(rotation=90) \n",
    "\n",
    "# Mostrar el gráfico\n",
    "plt.tight_layout()  # Ajustar el gráfico para evitar solapamiento\n",
    "plt.show()"
   ]
  },
  {
   "cell_type": "markdown",
   "metadata": {},
   "source": [
    "*Loop* es el barrio que recibió el mayor número de viajes, con un promedio de más de 10,000 viajes, seguido de *River North* con un poco menos de 10,000.\n",
    "\n",
    "Otros barrios como *Streeterville y West Loop* están en un rango intermedio, con alrededor de 5,000 a 7,000 viajes.\n",
    "\n",
    "Barrios como *O'Hare, Lake View y Grant Park* tienen un número de viajes notablemente menor, con promedios inferiores a 3,000 viajes.\n",
    "\n",
    "*Loop y River North*, son los destinos más populares para los viajes en taxi, lo que sugiere que estas áreas son puntos de alta actividad, posiblemente por sean áreas comerciales, turísticas o de negocios."
   ]
  },
  {
   "cell_type": "markdown",
   "metadata": {},
   "source": [
    "### DataFrame de Viajes y Condiciones Climáticas"
   ]
  },
  {
   "cell_type": "markdown",
   "metadata": {},
   "source": [
    "project_sql_result_07.csv: Resultado de la última consulta. <br>\n",
    "Contiene datos sobre viajes desde el Loop hasta el Aeropuerto Internacional O'Hare, el sábado.<br>"
   ]
  },
  {
   "cell_type": "code",
   "execution_count": 13,
   "metadata": {},
   "outputs": [
    {
     "data": {
      "text/html": [
       "<div>\n",
       "<style scoped>\n",
       "    .dataframe tbody tr th:only-of-type {\n",
       "        vertical-align: middle;\n",
       "    }\n",
       "\n",
       "    .dataframe tbody tr th {\n",
       "        vertical-align: top;\n",
       "    }\n",
       "\n",
       "    .dataframe thead th {\n",
       "        text-align: right;\n",
       "    }\n",
       "</style>\n",
       "<table border=\"1\" class=\"dataframe\">\n",
       "  <thead>\n",
       "    <tr style=\"text-align: right;\">\n",
       "      <th></th>\n",
       "      <th>start_ts</th>\n",
       "      <th>weather_conditions</th>\n",
       "      <th>duration_seconds</th>\n",
       "    </tr>\n",
       "  </thead>\n",
       "  <tbody>\n",
       "    <tr>\n",
       "      <th>0</th>\n",
       "      <td>2017-11-25 16:00:00</td>\n",
       "      <td>Good</td>\n",
       "      <td>2410.0</td>\n",
       "    </tr>\n",
       "    <tr>\n",
       "      <th>1</th>\n",
       "      <td>2017-11-25 14:00:00</td>\n",
       "      <td>Good</td>\n",
       "      <td>1920.0</td>\n",
       "    </tr>\n",
       "    <tr>\n",
       "      <th>2</th>\n",
       "      <td>2017-11-25 12:00:00</td>\n",
       "      <td>Good</td>\n",
       "      <td>1543.0</td>\n",
       "    </tr>\n",
       "    <tr>\n",
       "      <th>3</th>\n",
       "      <td>2017-11-04 10:00:00</td>\n",
       "      <td>Good</td>\n",
       "      <td>2512.0</td>\n",
       "    </tr>\n",
       "    <tr>\n",
       "      <th>4</th>\n",
       "      <td>2017-11-11 07:00:00</td>\n",
       "      <td>Good</td>\n",
       "      <td>1440.0</td>\n",
       "    </tr>\n",
       "  </tbody>\n",
       "</table>\n",
       "</div>"
      ],
      "text/plain": [
       "              start_ts weather_conditions  duration_seconds\n",
       "0  2017-11-25 16:00:00               Good            2410.0\n",
       "1  2017-11-25 14:00:00               Good            1920.0\n",
       "2  2017-11-25 12:00:00               Good            1543.0\n",
       "3  2017-11-04 10:00:00               Good            2512.0\n",
       "4  2017-11-11 07:00:00               Good            1440.0"
      ]
     },
     "execution_count": 13,
     "metadata": {},
     "output_type": "execute_result"
    }
   ],
   "source": [
    "# Obtener las primeras filas de la tabla df_trips\n",
    "df_trips.head()"
   ]
  },
  {
   "cell_type": "code",
   "execution_count": 14,
   "metadata": {},
   "outputs": [
    {
     "data": {
      "text/html": [
       "<div>\n",
       "<style scoped>\n",
       "    .dataframe tbody tr th:only-of-type {\n",
       "        vertical-align: middle;\n",
       "    }\n",
       "\n",
       "    .dataframe tbody tr th {\n",
       "        vertical-align: top;\n",
       "    }\n",
       "\n",
       "    .dataframe thead th {\n",
       "        text-align: right;\n",
       "    }\n",
       "</style>\n",
       "<table border=\"1\" class=\"dataframe\">\n",
       "  <thead>\n",
       "    <tr style=\"text-align: right;\">\n",
       "      <th></th>\n",
       "      <th>duration_seconds</th>\n",
       "    </tr>\n",
       "  </thead>\n",
       "  <tbody>\n",
       "    <tr>\n",
       "      <th>count</th>\n",
       "      <td>1068.000000</td>\n",
       "    </tr>\n",
       "    <tr>\n",
       "      <th>mean</th>\n",
       "      <td>2071.731273</td>\n",
       "    </tr>\n",
       "    <tr>\n",
       "      <th>std</th>\n",
       "      <td>769.461125</td>\n",
       "    </tr>\n",
       "    <tr>\n",
       "      <th>min</th>\n",
       "      <td>0.000000</td>\n",
       "    </tr>\n",
       "    <tr>\n",
       "      <th>25%</th>\n",
       "      <td>1438.250000</td>\n",
       "    </tr>\n",
       "    <tr>\n",
       "      <th>50%</th>\n",
       "      <td>1980.000000</td>\n",
       "    </tr>\n",
       "    <tr>\n",
       "      <th>75%</th>\n",
       "      <td>2580.000000</td>\n",
       "    </tr>\n",
       "    <tr>\n",
       "      <th>max</th>\n",
       "      <td>7440.000000</td>\n",
       "    </tr>\n",
       "  </tbody>\n",
       "</table>\n",
       "</div>"
      ],
      "text/plain": [
       "       duration_seconds\n",
       "count       1068.000000\n",
       "mean        2071.731273\n",
       "std          769.461125\n",
       "min            0.000000\n",
       "25%         1438.250000\n",
       "50%         1980.000000\n",
       "75%         2580.000000\n",
       "max         7440.000000"
      ]
     },
     "execution_count": 14,
     "metadata": {},
     "output_type": "execute_result"
    }
   ],
   "source": [
    "# Obtener la información general sobre nuestros datos\n",
    "df_trips.describe()"
   ]
  },
  {
   "cell_type": "code",
   "execution_count": 15,
   "metadata": {},
   "outputs": [
    {
     "name": "stdout",
     "output_type": "stream",
     "text": [
      "<class 'pandas.core.frame.DataFrame'>\n",
      "RangeIndex: 1068 entries, 0 to 1067\n",
      "Data columns (total 3 columns):\n",
      " #   Column              Non-Null Count  Dtype  \n",
      "---  ------              --------------  -----  \n",
      " 0   start_ts            1068 non-null   object \n",
      " 1   weather_conditions  1068 non-null   object \n",
      " 2   duration_seconds    1068 non-null   float64\n",
      "dtypes: float64(1), object(2)\n",
      "memory usage: 25.2+ KB\n"
     ]
    }
   ],
   "source": [
    "# Obtener más información\n",
    "df_trips.info()"
   ]
  },
  {
   "cell_type": "code",
   "execution_count": 16,
   "metadata": {},
   "outputs": [
    {
     "data": {
      "text/plain": [
       "197"
      ]
     },
     "execution_count": 16,
     "metadata": {},
     "output_type": "execute_result"
    }
   ],
   "source": [
    "# Verificar si hay duplicados\n",
    "num_duplicates = df_trips.duplicated().sum()\n",
    "num_duplicates"
   ]
  },
  {
   "cell_type": "markdown",
   "metadata": {},
   "source": [
    "Descripción del Dataset df_trips\n",
    "\n",
    "Este dataset está compuesto por 1068 filas y 3 columnas:\n",
    "\n",
    "•\t`start_ts`: fecha y hora de recogida <br>\n",
    "•\t`weather_conditions`: condiciones climáticas en el momento en el que comenzó el viaje<br>\n",
    "•\t`duration_seconds`: duración del viaje en segundos<br><br>\n",
    "\n",
    "→ No hay valores nulos en las columnas, ya que todas las filas contienen datos en las tres columnas.<br> \n",
    "→ Se encontraron 197 filas duplicadas en el dataset.<br> \n",
    "→ La columna duration_seconds muestra que la duración de los viajes varía considerablemente, con un tiempo mínimo de 0 segundos y un máximo de 7,440 segundos.<br> \n",
    "→ La duración promedio de los viajes es de aproximadamente 2,072 segundos, con una desviación estándar de 769, lo que sugiere una dispersión moderada en los tiempos de viaje.<br> \n",
    "→ La mitad de los viajes tienen una duración inferior a 1,980 segundos, y el 75% de los viajes tienen menos de 2,580 segundos, indicando que la mayoría de los viajes tienden a durar menos de 43 minutos.<br><br>\n",
    "\n",
    "**Conclusiones:** El dataset presenta algunos errores evidentes en forma de filas duplicadas, lo que podría afectar el análisis posterior por lo que hay que solucionarlo de manera adecuada. Además, proporciona información útil sobre la duración de los viajes y las condiciones climáticas, lo que puede ser relevante para entender cómo estos factores influyen en la experiencia del pasajero en el servicio de viajes compartidos."
   ]
  },
  {
   "cell_type": "code",
   "execution_count": 17,
   "metadata": {},
   "outputs": [
    {
     "name": "stdout",
     "output_type": "stream",
     "text": [
      "                start_ts weather_conditions  duration_seconds\n",
      "62   2017-11-11 06:00:00               Good            1260.0\n",
      "74   2017-11-11 08:00:00               Good            1380.0\n",
      "76   2017-11-04 09:00:00               Good            1380.0\n",
      "117  2017-11-11 07:00:00               Good            1380.0\n",
      "119  2017-11-04 14:00:00               Good            3300.0\n",
      "...                  ...                ...               ...\n",
      "1054 2017-11-11 07:00:00               Good            1380.0\n",
      "1058 2017-11-25 12:00:00               Good            1440.0\n",
      "1062 2017-11-11 06:00:00               Good            1500.0\n",
      "1065 2017-11-11 13:00:00               Good            2100.0\n",
      "1066 2017-11-11 08:00:00               Good            1380.0\n",
      "\n",
      "[197 rows x 3 columns]\n"
     ]
    }
   ],
   "source": [
    "# Convertir la columna start_ts a tipo datetime\n",
    "df_trips['start_ts'] = pd.to_datetime(df_trips['start_ts'])\n",
    "\n",
    "# Verificar si hay filas duplicadas en todas las columnas\n",
    "duplicates = df_trips.duplicated()\n",
    "\n",
    "print(df_trips[duplicates])"
   ]
  },
  {
   "cell_type": "markdown",
   "metadata": {},
   "source": [
    "Se encontraron 197 duplicados exactos dentro de df_trips, lo que puede indicar un error en la consulta SQL cuando creé el DataFrame.<br><br>\n",
    "La presencia de filas exactamente iguales en el DataFrame indica una redundancia en los datos que no aporta valor analítico y puede distorsionar los resultados de análisis posteriores. Por lo que se eliminan las filas duplicadas, así, se mejora la calidad de los datos, lo que permite obtener resultados más precisos y representativos. Con esto, también se optimiza el rendimiento del procesamiento de datos, ya que reduce la carga en la memoria y acelera las operaciones de análisis. \n",
    "Lo anterior, mantiene la integridad y eficiencia del análisis de datos."
   ]
  },
  {
   "cell_type": "code",
   "execution_count": 18,
   "metadata": {},
   "outputs": [],
   "source": [
    "# Eliminar filas duplicadas del DataFrame df_trips\n",
    "df_trips = df_trips.drop_duplicates()"
   ]
  },
  {
   "cell_type": "code",
   "execution_count": 19,
   "metadata": {},
   "outputs": [
    {
     "data": {
      "text/plain": [
       "0"
      ]
     },
     "execution_count": 19,
     "metadata": {},
     "output_type": "execute_result"
    }
   ],
   "source": [
    "# Verificar si hay duplicados\n",
    "df_trips.duplicated().sum()"
   ]
  },
  {
   "cell_type": "code",
   "execution_count": 20,
   "metadata": {},
   "outputs": [
    {
     "data": {
      "text/html": [
       "<div>\n",
       "<style scoped>\n",
       "    .dataframe tbody tr th:only-of-type {\n",
       "        vertical-align: middle;\n",
       "    }\n",
       "\n",
       "    .dataframe tbody tr th {\n",
       "        vertical-align: top;\n",
       "    }\n",
       "\n",
       "    .dataframe thead th {\n",
       "        text-align: right;\n",
       "    }\n",
       "</style>\n",
       "<table border=\"1\" class=\"dataframe\">\n",
       "  <thead>\n",
       "    <tr style=\"text-align: right;\">\n",
       "      <th></th>\n",
       "      <th>start_ts</th>\n",
       "      <th>weather_conditions</th>\n",
       "      <th>duration_seconds</th>\n",
       "    </tr>\n",
       "  </thead>\n",
       "  <tbody>\n",
       "    <tr>\n",
       "      <th>0</th>\n",
       "      <td>2017-11-25 16:00:00</td>\n",
       "      <td>Good</td>\n",
       "      <td>2410.0</td>\n",
       "    </tr>\n",
       "    <tr>\n",
       "      <th>1</th>\n",
       "      <td>2017-11-25 14:00:00</td>\n",
       "      <td>Good</td>\n",
       "      <td>1920.0</td>\n",
       "    </tr>\n",
       "    <tr>\n",
       "      <th>2</th>\n",
       "      <td>2017-11-25 12:00:00</td>\n",
       "      <td>Good</td>\n",
       "      <td>1543.0</td>\n",
       "    </tr>\n",
       "    <tr>\n",
       "      <th>3</th>\n",
       "      <td>2017-11-04 10:00:00</td>\n",
       "      <td>Good</td>\n",
       "      <td>2512.0</td>\n",
       "    </tr>\n",
       "    <tr>\n",
       "      <th>4</th>\n",
       "      <td>2017-11-11 07:00:00</td>\n",
       "      <td>Good</td>\n",
       "      <td>1440.0</td>\n",
       "    </tr>\n",
       "    <tr>\n",
       "      <th>...</th>\n",
       "      <td>...</td>\n",
       "      <td>...</td>\n",
       "      <td>...</td>\n",
       "    </tr>\n",
       "    <tr>\n",
       "      <th>1060</th>\n",
       "      <td>2017-11-04 14:00:00</td>\n",
       "      <td>Good</td>\n",
       "      <td>2700.0</td>\n",
       "    </tr>\n",
       "    <tr>\n",
       "      <th>1061</th>\n",
       "      <td>2017-11-18 16:00:00</td>\n",
       "      <td>Bad</td>\n",
       "      <td>2186.0</td>\n",
       "    </tr>\n",
       "    <tr>\n",
       "      <th>1063</th>\n",
       "      <td>2017-11-25 11:00:00</td>\n",
       "      <td>Good</td>\n",
       "      <td>0.0</td>\n",
       "    </tr>\n",
       "    <tr>\n",
       "      <th>1064</th>\n",
       "      <td>2017-11-11 10:00:00</td>\n",
       "      <td>Good</td>\n",
       "      <td>1318.0</td>\n",
       "    </tr>\n",
       "    <tr>\n",
       "      <th>1067</th>\n",
       "      <td>2017-11-04 16:00:00</td>\n",
       "      <td>Bad</td>\n",
       "      <td>2834.0</td>\n",
       "    </tr>\n",
       "  </tbody>\n",
       "</table>\n",
       "<p>871 rows × 3 columns</p>\n",
       "</div>"
      ],
      "text/plain": [
       "                start_ts weather_conditions  duration_seconds\n",
       "0    2017-11-25 16:00:00               Good            2410.0\n",
       "1    2017-11-25 14:00:00               Good            1920.0\n",
       "2    2017-11-25 12:00:00               Good            1543.0\n",
       "3    2017-11-04 10:00:00               Good            2512.0\n",
       "4    2017-11-11 07:00:00               Good            1440.0\n",
       "...                  ...                ...               ...\n",
       "1060 2017-11-04 14:00:00               Good            2700.0\n",
       "1061 2017-11-18 16:00:00                Bad            2186.0\n",
       "1063 2017-11-25 11:00:00               Good               0.0\n",
       "1064 2017-11-11 10:00:00               Good            1318.0\n",
       "1067 2017-11-04 16:00:00                Bad            2834.0\n",
       "\n",
       "[871 rows x 3 columns]"
      ]
     },
     "execution_count": 20,
     "metadata": {},
     "output_type": "execute_result"
    }
   ],
   "source": [
    "df_trips"
   ]
  },
  {
   "cell_type": "markdown",
   "metadata": {},
   "source": [
    "**Ahora df_trips sin duplicados contiene 871 filas**"
   ]
  },
  {
   "cell_type": "markdown",
   "metadata": {},
   "source": [
    "## Prueba de Hipótesis"
   ]
  },
  {
   "cell_type": "markdown",
   "metadata": {},
   "source": [
    "**Hipótesis:** <br>\n",
    "\"La duración promedio de los viajes desde el Loop hasta el Aeropuerto Internacional O'Hare cambia los sábados lluviosos\"."
   ]
  },
  {
   "cell_type": "code",
   "execution_count": 21,
   "metadata": {},
   "outputs": [
    {
     "name": "stdout",
     "output_type": "stream",
     "text": [
      "Good    723\n",
      "Bad     148\n",
      "Name: weather_conditions, dtype: int64\n"
     ]
    }
   ],
   "source": [
    "# Ver los valores únicos en la columna weather_conditions\n",
    "print(df_trips['weather_conditions'].value_counts())"
   ]
  },
  {
   "cell_type": "code",
   "execution_count": 22,
   "metadata": {},
   "outputs": [
    {
     "name": "stdout",
     "output_type": "stream",
     "text": [
      "Duración promedio de los viajes en días lluviosos: 2409.2297297297296 segundos\n",
      "Duración promedio de los viajes en días no lluviosos: 2032.253112033195 segundos\n",
      "Valor p de la prueba de Levene: 0.9806770360671218\n",
      "No se rechaza la hipótesis nula de igualdad de varianzas.\n",
      "Valor p: 7.397770692813658e-08\n"
     ]
    }
   ],
   "source": [
    "# Separar días lluviosos (Bad) y no lluviosos (Good)\n",
    "rainy_days = df_trips[df_trips['weather_conditions'] == 'Bad']\n",
    "non_rainy_days = df_trips[df_trips['weather_conditions'] == 'Good']\n",
    "\n",
    "# Calcular la duración promedio de los viajes en días lluviosos y no lluviosos\n",
    "mean_duration_rainy = rainy_days['duration_seconds'].mean()\n",
    "mean_duration_non_rainy = non_rainy_days['duration_seconds'].mean()\n",
    "\n",
    "# Mostrar los promedios\n",
    "print(f'Duración promedio de los viajes en días lluviosos: {mean_duration_rainy} segundos')\n",
    "print(f'Duración promedio de los viajes en días no lluviosos: {mean_duration_non_rainy} segundos')\n",
    "\n",
    "# Nivel de significancia\n",
    "alpha = 0.05\n",
    "\n",
    "# Realizar la prueba de Levene para comprobar la igualdad de varianzas\n",
    "levene_stat, levene_p_value = stats.levene(rainy_days['duration_seconds'], non_rainy_days['duration_seconds'])\n",
    "\n",
    "# Mostrar el valor p de la prueba de Levene\n",
    "print(f'Valor p de la prueba de Levene: {levene_p_value}')\n",
    "\n",
    "# Determinar si se rechaza o no la hipótesis de igualdad de varianzas\n",
    "if levene_p_value < alpha:\n",
    "    equal_var = False\n",
    "    print(\"Se rechaza la hipótesis nula de igualdad de varianzas.\")\n",
    "else:\n",
    "    equal_var = True\n",
    "    print(\"No se rechaza la hipótesis nula de igualdad de varianzas.\")\n",
    "    \n",
    "# Realizar una prueba t para comparar las dos medias\n",
    "t_stat, p_value = stats.ttest_ind(rainy_days['duration_seconds'], non_rainy_days['duration_seconds'])\n",
    "\n",
    "# Mostrar el valor p\n",
    "print(f'Valor p: {p_value}')"
   ]
  },
  {
   "cell_type": "markdown",
   "metadata": {},
   "source": [
    "**Valor p de la prueba de Levene:**\n",
    "\n",
    "Valor p es 0.9807. <br>\n",
    "Como el valor es mayor que el nivel de significancia, no se rechaza la hipótesis nula de igualdad de varianzas. <br>\n",
    "Es decir que no hay evidencia suficiente para afirmar que las varianzas de las duraciones de los viajes en días lluviosos y no lluviosos son significativamente diferentes."
   ]
  },
  {
   "cell_type": "code",
   "execution_count": 23,
   "metadata": {},
   "outputs": [
    {
     "data": {
      "image/png": "[encoded data removed]",
      "text/plain": [
       "<Figure size 800x500 with 1 Axes>"
      ]
     },
     "metadata": {},
     "output_type": "display_data"
    }
   ],
   "source": [
    "# Visualización para comparar\n",
    "plt.figure(figsize=(8, 5))\n",
    "plt.hist(rainy_days['duration_seconds'], alpha=0.5, label='Rainy Days', color='blue')\n",
    "plt.hist(non_rainy_days['duration_seconds'], alpha=0.5, label='Non-Rainy Day', color='mediumseagreen')\n",
    "plt.xlabel('Trip Duration (seconds)')\n",
    "plt.ylabel('Number of Trips')\n",
    "plt.legend(loc='upper right')\n",
    "plt.title('Comparison of Trip Durations on Rainy and Non-Rainy Days')\n",
    "plt.show()"
   ]
  },
  {
   "cell_type": "markdown",
   "metadata": {},
   "source": [
    "**Hipótesis nula (H₀):** La duración promedio de los viajes no cambia entre los sábados lluviosos y no lluviosos. Esto significa que la media de la duración de los viajes es igual para ambos grupos.<br>\n",
    "**Hipótesis alternativa (H₁):** La duración promedio de los viajes cambia entre los sábados lluviosos y no lluviosos. Esto significa que las medias de duración son diferentes entre ambos grupos."
   ]
  },
  {
   "cell_type": "code",
   "execution_count": 24,
   "metadata": {},
   "outputs": [
    {
     "data": {
      "text/html": [
       "<h1><b>Rechazamos la hipótesis nula: La duración promedio de los viajes cambia los sábados lluviosos.</b></h1>"
      ],
      "text/plain": [
       "<IPython.core.display.HTML object>"
      ]
     },
     "metadata": {},
     "output_type": "display_data"
    }
   ],
   "source": [
    "# Verificar si rechazamos o no la hipótesis nula\n",
    "if p_value < alpha:\n",
    "    display(HTML(\"<h1><b>Rechazamos la hipótesis nula: La duración promedio de los viajes cambia los sábados lluviosos.</b></h1>\"))\n",
    "else:\n",
    "    display(HTML(\"<h1><b>No rechazamos la hipótesis nula: No hay suficiente evidencia para decir que la duración promedio de los viajes cambia los sábados lluviosos.</b></h1>\"))"
   ]
  },
  {
   "cell_type": "markdown",
   "metadata": {},
   "source": [
    "**El nivel de significancia es** `α = 0.05` *y lo usé porque es el valor comúnmente utilizado en pruebas estadísticas.*\n",
    "\n",
    "**La hipótesis nula (H₀)** *En estadística, la hipótesis nula suele representar el estado de no cambio o no efecto. Esto significa que, por defecto, asumimos que no hay diferencia en las medias de duración de los viajes entre sábados lluviosos y no lluviosos, esta es la razón por la que escogí la hipótesis nula.*\n",
    "\n",
    "**La hipótesis alternativa (H₁)** *Plantea lo contrario, así, si los datos proporcionan evidencia suficiente, se rechaza la hipótesis nula a favor de la hipótesis alternativa.*"
   ]
  },
  {
   "cell_type": "markdown",
   "metadata": {},
   "source": [
    "# Conclusión\n",
    "    \n",
    "    El análisis confirma que los viajes en sábados lluviosos duran más que en días no lluviosos, probablemente debido a condiciones adversas como tráfico o velocidad reducida. Esto puede ser útil para ajustar la planificación de recursos o precios en el servicio de taxis."
   ]
  },
  {
   "cell_type": "markdown",
   "metadata": {},
   "source": [
    "## Conclusión General del Proyecto\n",
    "\n",
    "*Carga e Importación de Datos*: Se importaron los datasets relevantes para el análisis: `df_cabs`, `df_dropoff_location`, y `df_trips`. Estos conjuntos de datos proporcionan información sobre las compañías de taxis, las ubicaciones de entrega, y los viajes, respectivamente.\n",
    "\n",
    "***Análisis de Duplicados y Nulos:***\n",
    "\n",
    "En `df_cabs`, se verificó que no había valores nulos ni filas duplicadas. Esto garantizó la integridad de los datos, permitiendo un análisis confiable de la cantidad de viajes realizados por cada compañía.\n",
    "\n",
    "En `df_dropoff_location`, también se confirmaron la ausencia de duplicados y valores nulos, facilitando un entendimiento claro sobre las frecuencias de viajes hacia diferentes destinos.\n",
    "\n",
    "En `df_trips`, se identificaron y eliminaron filas duplicadas, lo que fue justificado por la existencia de entradas idénticas que podrían distorsionar el análisis. Esto se realizó para asegurar que cada registro refleje una única observación de viaje.\n",
    "\n",
    "***Análisis Descriptivo:***\n",
    "\n",
    "Se llevaron a cabo análisis descriptivos para cada dataset, generando estadísticas como media, mediana y desviación estándar. Esto permitió identificar patrones en los datos, como la variabilidad en el número de viajes y las duraciones de los mismos.\n",
    "Se observó que *Flash Cab* lidera el mercado, mientras que *Loop* y *River North* son los barrios más solicitados para viajes, lo que refleja áreas de alta actividad.\n",
    "\n",
    "***Análisis de Duración de Viajes:***\n",
    "\n",
    "Se separaron los viajes en días lluviosos y no lluviosos para analizar la duración promedio, encontrando que los viajes en días lluviosos son más largos, lo cual fue respaldado por pruebas estadísticas (incluyendo la prueba de Levene para varianzas).\n",
    "Esto sugiere que condiciones climáticas adversas impactan la duración de los viajes, información relevante para ajustar la planificación de recursos y precios en el servicio de taxis.\n",
    "\n",
    "***Conclusiones Generales:***\n",
    "\n",
    "1. Los datos son útiles para comprender el funcionamiento y la operatividad de Zuber en Chicago.\n",
    "\n",
    "2. La identificación de patrones en los datos proporciona una base sólida para futuras decisiones en términos de optimización de rutas, ajustes en la planificación de recursos y estrategias de marketing.\n",
    "\n",
    "3. Las diferencias en duración de viajes según condiciones climáticas destacan la importancia de considerar factores externos en la operativa diaria de la empresa.\n",
    "\n",
    "El análisis de los datasets `df_cabs`, `df_dropoff_location` y `df_trips` ha proporcionado información valiosa sobre el funcionamiento del servicio de viajes compartidos en Chicago, destacando patrones en la actividad de las compañías de taxis, las preferencias de los pasajeros en cuanto a ubicaciones de destino y la influencia de las condiciones climáticas en la duración de los viajes.\n",
    "\n",
    "`df_cabs`:\n",
    "\n",
    "Este dataset revela que Flash Cab domina el mercado de taxis con más de 17,500 viajes, superando significativamente a otras compañías como Taxi Affiliation Services, Medallion Leasing y Yellow Cab, que tienen entre 10,000 y 12,000 viajes. Las empresas que siguen tienen menos de 10,000 viajes, indicando una marcada disparidad en la actividad del mercado. Esta información es crucial para entender la competitividad del sector y la distribución de la clientela.\n",
    "\n",
    "`df_dropoff_location`:\n",
    "\n",
    "Los datos indican que el Loop es el barrio más frecuentado, con un promedio de más de 10,000 viajes, seguido por River North. Las ubicaciones menos visitadas, como O'Hare y Lake View, presentan un número considerablemente menor de viajes. Estos hallazgos pueden guiar la planificación y optimización de rutas, sugiriendo que se debería concentrar más recursos en las áreas de mayor actividad.\n",
    "\n",
    "`df_trips`:\n",
    "\n",
    "El análisis de la duración de los viajes revela que los viajes en días lluviosos son significativamente más largos en comparación con los días no lluviosos, lo que se atribuye a factores como el aumento del tráfico y la reducción de la velocidad. La prueba de Levene indica que no hay diferencias significativas en las varianzas de duración de los viajes entre ambos tipos de días, pero la duración promedio de los viajes en días lluviosos se confirma como mayor, lo que puede ser relevante para ajustar estrategias de precios y recursos operativos en días con clima adverso.\n",
    "<br><br>\n",
    "\n",
    "***En conjunto, estos datasets ofrecen una visión integral sobre cómo se comporta el servicio de taxis en Chicago, destacando áreas de alta demanda, la variabilidad en la actividad de las compañías y la influencia de las condiciones climáticas en la experiencia del pasajero. Esta información es esencial para la toma de decisiones estratégicas en la planificación y mejora del servicio de viajes compartidos.***"
   ]
  },
  {
   "cell_type": "code",
   "execution_count": null,
   "metadata": {},
   "outputs": [],
   "source": []
  }
 ],
 "metadata": {
  "ExecuteTimeLog": [
   {
    "duration": 225,
    "start_time": "2024-09-24T18:51:27.660Z"
   },
   {
    "duration": 309,
    "start_time": "2024-09-24T18:51:54.162Z"
   },
   {
    "duration": 465,
    "start_time": "2024-09-24T18:51:55.013Z"
   },
   {
    "duration": 7,
    "start_time": "2024-09-24T18:54:26.190Z"
   },
   {
    "duration": 9,
    "start_time": "2024-09-24T18:54:51.954Z"
   },
   {
    "duration": 10,
    "start_time": "2024-09-24T18:55:37.702Z"
   },
   {
    "duration": 7,
    "start_time": "2024-09-24T18:57:32.206Z"
   },
   {
    "duration": 6,
    "start_time": "2024-09-24T18:58:57.571Z"
   },
   {
    "duration": 6,
    "start_time": "2024-09-24T19:01:31.069Z"
   },
   {
    "duration": 4,
    "start_time": "2024-09-24T19:02:11.012Z"
   },
   {
    "duration": 4,
    "start_time": "2024-09-24T19:02:20.598Z"
   },
   {
    "duration": 6,
    "start_time": "2024-09-24T19:07:55.569Z"
   },
   {
    "duration": 9,
    "start_time": "2024-09-24T19:07:56.308Z"
   },
   {
    "duration": 5,
    "start_time": "2024-09-24T19:12:18.143Z"
   },
   {
    "duration": 9,
    "start_time": "2024-09-24T19:12:18.524Z"
   },
   {
    "duration": 8,
    "start_time": "2024-09-24T19:12:18.853Z"
   },
   {
    "duration": 8,
    "start_time": "2024-09-24T19:12:19.407Z"
   },
   {
    "duration": 8,
    "start_time": "2024-09-24T19:16:31.734Z"
   },
   {
    "duration": 9,
    "start_time": "2024-09-24T19:16:59.467Z"
   },
   {
    "duration": 8,
    "start_time": "2024-09-24T19:17:13.370Z"
   },
   {
    "duration": 6,
    "start_time": "2024-09-24T19:17:16.926Z"
   },
   {
    "duration": 8,
    "start_time": "2024-09-24T19:17:49.695Z"
   },
   {
    "duration": 8,
    "start_time": "2024-09-24T19:17:56.341Z"
   },
   {
    "duration": 6,
    "start_time": "2024-09-24T19:17:59.830Z"
   },
   {
    "duration": 6,
    "start_time": "2024-09-24T19:21:12.373Z"
   },
   {
    "duration": 5,
    "start_time": "2024-09-24T19:24:43.430Z"
   },
   {
    "duration": 340,
    "start_time": "2024-09-24T22:40:51.795Z"
   },
   {
    "duration": 9,
    "start_time": "2024-09-24T22:40:52.990Z"
   },
   {
    "duration": 11,
    "start_time": "2024-09-24T22:40:55.091Z"
   },
   {
    "duration": 11,
    "start_time": "2024-09-24T22:40:57.011Z"
   },
   {
    "duration": 8,
    "start_time": "2024-09-24T22:40:57.514Z"
   },
   {
    "duration": 8,
    "start_time": "2024-09-24T22:40:59.318Z"
   },
   {
    "duration": 6,
    "start_time": "2024-09-24T22:41:00.473Z"
   },
   {
    "duration": 9,
    "start_time": "2024-09-24T22:41:02.023Z"
   },
   {
    "duration": 8,
    "start_time": "2024-09-24T22:41:02.276Z"
   },
   {
    "duration": 1921,
    "start_time": "2024-09-24T22:58:54.040Z"
   },
   {
    "duration": 934,
    "start_time": "2024-09-24T22:59:40.809Z"
   },
   {
    "duration": 134,
    "start_time": "2024-09-24T23:01:18.759Z"
   },
   {
    "duration": 184,
    "start_time": "2024-09-24T23:01:28.463Z"
   },
   {
    "duration": 163,
    "start_time": "2024-09-24T23:01:39.401Z"
   },
   {
    "duration": 249,
    "start_time": "2024-09-24T23:01:50.457Z"
   },
   {
    "duration": 238,
    "start_time": "2024-09-24T23:02:01.762Z"
   },
   {
    "duration": 305,
    "start_time": "2024-09-24T23:03:15.166Z"
   },
   {
    "duration": 401,
    "start_time": "2024-09-24T23:04:22.536Z"
   },
   {
    "duration": 297,
    "start_time": "2024-09-24T23:04:40.605Z"
   },
   {
    "duration": 318,
    "start_time": "2024-09-24T23:04:54.229Z"
   },
   {
    "duration": 334,
    "start_time": "2024-09-24T23:05:04.728Z"
   },
   {
    "duration": 393,
    "start_time": "2024-09-24T23:05:18.537Z"
   },
   {
    "duration": 319,
    "start_time": "2024-09-24T23:05:30.267Z"
   },
   {
    "duration": 289,
    "start_time": "2024-09-24T23:05:40.269Z"
   },
   {
    "duration": 6,
    "start_time": "2024-09-24T23:05:48.407Z"
   },
   {
    "duration": 300,
    "start_time": "2024-09-24T23:05:54.462Z"
   },
   {
    "duration": 635,
    "start_time": "2024-09-24T23:11:41.514Z"
   },
   {
    "duration": 42,
    "start_time": "2024-09-24T23:12:47.601Z"
   },
   {
    "duration": 2,
    "start_time": "2024-09-24T23:12:55.635Z"
   },
   {
    "duration": 7,
    "start_time": "2024-09-24T23:12:56.689Z"
   },
   {
    "duration": 7,
    "start_time": "2024-09-24T23:12:57.067Z"
   },
   {
    "duration": 9,
    "start_time": "2024-09-24T23:12:57.452Z"
   },
   {
    "duration": 8,
    "start_time": "2024-09-24T23:12:57.926Z"
   },
   {
    "duration": 6,
    "start_time": "2024-09-24T23:12:59.143Z"
   },
   {
    "duration": 6,
    "start_time": "2024-09-24T23:12:59.681Z"
   },
   {
    "duration": 11,
    "start_time": "2024-09-24T23:13:00.235Z"
   },
   {
    "duration": 9,
    "start_time": "2024-09-24T23:13:00.765Z"
   },
   {
    "duration": 263,
    "start_time": "2024-09-24T23:13:01.403Z"
   },
   {
    "duration": 258,
    "start_time": "2024-09-24T23:13:02.911Z"
   },
   {
    "duration": 240,
    "start_time": "2024-09-24T23:13:58.516Z"
   },
   {
    "duration": 252,
    "start_time": "2024-09-24T23:14:10.637Z"
   },
   {
    "duration": 244,
    "start_time": "2024-09-24T23:14:19.544Z"
   },
   {
    "duration": 312,
    "start_time": "2024-09-24T23:14:29.758Z"
   },
   {
    "duration": 228,
    "start_time": "2024-09-24T23:14:35.532Z"
   },
   {
    "duration": 217,
    "start_time": "2024-09-24T23:14:41.037Z"
   },
   {
    "duration": 280,
    "start_time": "2024-09-24T23:14:48.271Z"
   },
   {
    "duration": 245,
    "start_time": "2024-09-24T23:15:02.716Z"
   },
   {
    "duration": 262,
    "start_time": "2024-09-24T23:15:11.095Z"
   },
   {
    "duration": 275,
    "start_time": "2024-09-24T23:15:17.986Z"
   },
   {
    "duration": 254,
    "start_time": "2024-09-24T23:17:03.335Z"
   },
   {
    "duration": 9,
    "start_time": "2024-09-24T23:45:54.981Z"
   },
   {
    "duration": 8,
    "start_time": "2024-09-24T23:46:05.285Z"
   },
   {
    "duration": 7,
    "start_time": "2024-09-24T23:51:04.450Z"
   },
   {
    "duration": 7,
    "start_time": "2024-09-24T23:52:16.052Z"
   },
   {
    "duration": 5,
    "start_time": "2024-09-24T23:52:23.804Z"
   },
   {
    "duration": 19,
    "start_time": "2024-09-24T23:52:30.731Z"
   },
   {
    "duration": 13,
    "start_time": "2024-09-24T23:52:42.512Z"
   },
   {
    "duration": 8,
    "start_time": "2024-09-24T23:52:51.635Z"
   },
   {
    "duration": 7,
    "start_time": "2024-09-24T23:52:56.054Z"
   },
   {
    "duration": 10,
    "start_time": "2024-09-24T23:52:56.755Z"
   },
   {
    "duration": 5,
    "start_time": "2024-09-24T23:52:59.691Z"
   },
   {
    "duration": 8,
    "start_time": "2024-09-24T23:53:00.243Z"
   },
   {
    "duration": 8,
    "start_time": "2024-09-24T23:53:05.991Z"
   },
   {
    "duration": 7,
    "start_time": "2024-09-24T23:58:03.061Z"
   },
   {
    "duration": 18,
    "start_time": "2024-09-25T00:00:52.102Z"
   },
   {
    "duration": 351,
    "start_time": "2024-09-25T00:01:44.479Z"
   },
   {
    "duration": 8,
    "start_time": "2024-09-25T00:01:49.766Z"
   },
   {
    "duration": 149,
    "start_time": "2024-09-25T00:02:11.400Z"
   },
   {
    "duration": 147,
    "start_time": "2024-09-25T00:08:30.132Z"
   },
   {
    "duration": 143,
    "start_time": "2024-09-25T00:08:42.510Z"
   },
   {
    "duration": 263,
    "start_time": "2024-09-25T00:08:58.825Z"
   },
   {
    "duration": 157,
    "start_time": "2024-09-25T00:09:14.937Z"
   },
   {
    "duration": 147,
    "start_time": "2024-09-25T00:09:24.590Z"
   },
   {
    "duration": 149,
    "start_time": "2024-09-25T00:09:34.431Z"
   },
   {
    "duration": 6,
    "start_time": "2024-09-25T00:11:29.574Z"
   },
   {
    "duration": 45,
    "start_time": "2024-09-25T00:18:21.429Z"
   },
   {
    "duration": 7,
    "start_time": "2024-09-25T00:18:57.540Z"
   },
   {
    "duration": 144,
    "start_time": "2024-09-25T00:18:58.294Z"
   },
   {
    "duration": 3,
    "start_time": "2024-09-25T00:19:00.739Z"
   },
   {
    "duration": 2561,
    "start_time": "2024-09-25T20:47:12.713Z"
   },
   {
    "duration": 10,
    "start_time": "2024-09-25T20:47:15.278Z"
   },
   {
    "duration": 9,
    "start_time": "2024-09-25T20:47:15.289Z"
   },
   {
    "duration": 9,
    "start_time": "2024-09-25T20:47:15.301Z"
   },
   {
    "duration": 21,
    "start_time": "2024-09-25T20:47:15.311Z"
   },
   {
    "duration": 9,
    "start_time": "2024-09-25T20:47:15.377Z"
   },
   {
    "duration": 6,
    "start_time": "2024-09-25T20:47:16.482Z"
   },
   {
    "duration": 11,
    "start_time": "2024-09-25T20:47:18.535Z"
   },
   {
    "duration": 8,
    "start_time": "2024-09-25T20:47:19.236Z"
   },
   {
    "duration": 352,
    "start_time": "2024-09-25T20:47:20.488Z"
   },
   {
    "duration": 262,
    "start_time": "2024-09-25T20:47:22.431Z"
   },
   {
    "duration": 10,
    "start_time": "2024-09-25T20:47:28.644Z"
   },
   {
    "duration": 9,
    "start_time": "2024-09-25T20:47:38.322Z"
   },
   {
    "duration": 6,
    "start_time": "2024-09-25T20:47:38.745Z"
   },
   {
    "duration": 7,
    "start_time": "2024-09-25T20:47:39.440Z"
   },
   {
    "duration": 144,
    "start_time": "2024-09-25T20:47:40.109Z"
   },
   {
    "duration": 3,
    "start_time": "2024-09-25T20:48:42.822Z"
   },
   {
    "duration": 7,
    "start_time": "2024-09-25T20:52:21.592Z"
   },
   {
    "duration": 4,
    "start_time": "2024-09-25T21:10:03.695Z"
   },
   {
    "duration": 8,
    "start_time": "2024-09-25T21:11:20.773Z"
   },
   {
    "duration": 6,
    "start_time": "2024-09-25T21:12:52.570Z"
   },
   {
    "duration": 6,
    "start_time": "2024-09-25T21:13:23.705Z"
   },
   {
    "duration": 7,
    "start_time": "2024-09-25T21:14:13.152Z"
   },
   {
    "duration": 3,
    "start_time": "2024-09-25T21:14:32.071Z"
   },
   {
    "duration": 4,
    "start_time": "2024-09-25T21:14:39.760Z"
   },
   {
    "duration": 8,
    "start_time": "2024-09-26T14:03:59.589Z"
   },
   {
    "duration": 23,
    "start_time": "2024-09-26T14:04:19.462Z"
   },
   {
    "duration": 4,
    "start_time": "2024-09-26T14:07:18.082Z"
   },
   {
    "duration": 2565,
    "start_time": "2024-09-26T14:08:17.459Z"
   },
   {
    "duration": 10,
    "start_time": "2024-09-26T14:30:38.192Z"
   },
   {
    "duration": 12,
    "start_time": "2024-09-26T14:32:15.115Z"
   },
   {
    "duration": 16,
    "start_time": "2024-09-26T14:32:47.039Z"
   },
   {
    "duration": 3,
    "start_time": "2024-09-26T14:35:24.106Z"
   },
   {
    "duration": 17,
    "start_time": "2024-09-26T14:35:28.223Z"
   },
   {
    "duration": 6,
    "start_time": "2024-09-26T14:37:00.194Z"
   },
   {
    "duration": 222,
    "start_time": "2024-09-26T14:37:28.242Z"
   },
   {
    "duration": 4,
    "start_time": "2024-09-26T14:38:00.931Z"
   },
   {
    "duration": 4,
    "start_time": "2024-09-26T14:38:16.887Z"
   },
   {
    "duration": 5,
    "start_time": "2024-09-26T14:52:49.168Z"
   },
   {
    "duration": 11,
    "start_time": "2024-09-26T15:07:19.297Z"
   },
   {
    "duration": 9,
    "start_time": "2024-09-26T15:08:38.348Z"
   },
   {
    "duration": 4,
    "start_time": "2024-09-26T15:09:03.775Z"
   },
   {
    "duration": 9,
    "start_time": "2024-09-26T15:09:45.187Z"
   },
   {
    "duration": 3,
    "start_time": "2024-09-26T15:39:39.592Z"
   },
   {
    "duration": 14,
    "start_time": "2024-09-26T15:39:42.534Z"
   },
   {
    "duration": 5,
    "start_time": "2024-09-26T15:39:48.579Z"
   },
   {
    "duration": 9,
    "start_time": "2024-09-26T15:39:49.473Z"
   },
   {
    "duration": 8,
    "start_time": "2024-09-26T15:39:50.035Z"
   },
   {
    "duration": 5,
    "start_time": "2024-09-26T15:39:53.816Z"
   },
   {
    "duration": 6,
    "start_time": "2024-09-26T15:39:57.918Z"
   },
   {
    "duration": 10,
    "start_time": "2024-09-26T15:39:58.571Z"
   },
   {
    "duration": 9,
    "start_time": "2024-09-26T15:39:59.756Z"
   },
   {
    "duration": 5,
    "start_time": "2024-09-26T15:40:00.533Z"
   },
   {
    "duration": 285,
    "start_time": "2024-09-26T15:40:03.782Z"
   },
   {
    "duration": 271,
    "start_time": "2024-09-26T15:40:05.700Z"
   },
   {
    "duration": 7,
    "start_time": "2024-09-26T15:40:13.083Z"
   },
   {
    "duration": 9,
    "start_time": "2024-09-26T15:40:14.137Z"
   },
   {
    "duration": 9,
    "start_time": "2024-09-26T15:40:15.091Z"
   },
   {
    "duration": 6,
    "start_time": "2024-09-26T15:40:17.054Z"
   },
   {
    "duration": 15,
    "start_time": "2024-09-26T15:43:02.623Z"
   },
   {
    "duration": 6,
    "start_time": "2024-09-26T15:43:28.831Z"
   },
   {
    "duration": 10,
    "start_time": "2024-09-26T15:44:50.698Z"
   },
   {
    "duration": 12,
    "start_time": "2024-09-26T15:44:55.666Z"
   },
   {
    "duration": 10,
    "start_time": "2024-09-26T15:45:02.975Z"
   },
   {
    "duration": 4,
    "start_time": "2024-09-26T15:49:46.783Z"
   },
   {
    "duration": 6,
    "start_time": "2024-09-26T15:50:35.007Z"
   },
   {
    "duration": 16,
    "start_time": "2024-09-26T15:50:39.279Z"
   },
   {
    "duration": 6,
    "start_time": "2024-09-26T15:51:08.151Z"
   },
   {
    "duration": 10,
    "start_time": "2024-09-26T15:51:13.748Z"
   },
   {
    "duration": 9,
    "start_time": "2024-09-26T15:52:11.449Z"
   },
   {
    "duration": 5,
    "start_time": "2024-09-26T16:11:47.910Z"
   },
   {
    "duration": 16,
    "start_time": "2024-09-26T16:12:44.398Z"
   },
   {
    "duration": 6,
    "start_time": "2024-09-26T16:13:34.654Z"
   },
   {
    "duration": 10,
    "start_time": "2024-09-26T16:14:40.419Z"
   },
   {
    "duration": 10,
    "start_time": "2024-09-26T16:16:03.344Z"
   },
   {
    "duration": 5,
    "start_time": "2024-09-26T16:17:17.774Z"
   },
   {
    "duration": 6,
    "start_time": "2024-09-26T16:17:18.278Z"
   },
   {
    "duration": 10,
    "start_time": "2024-09-26T16:17:29.990Z"
   },
   {
    "duration": 3,
    "start_time": "2024-09-26T16:21:45.343Z"
   },
   {
    "duration": 7,
    "start_time": "2024-09-26T16:22:12.808Z"
   },
   {
    "duration": 4,
    "start_time": "2024-09-26T16:23:50.861Z"
   },
   {
    "duration": 7,
    "start_time": "2024-09-26T16:25:52.502Z"
   },
   {
    "duration": 154,
    "start_time": "2024-09-26T16:27:01.096Z"
   },
   {
    "duration": 7,
    "start_time": "2024-09-26T16:27:09.839Z"
   },
   {
    "duration": 9,
    "start_time": "2024-09-26T16:47:11.372Z"
   },
   {
    "duration": 9,
    "start_time": "2024-09-26T16:48:33.521Z"
   },
   {
    "duration": 155,
    "start_time": "2024-09-26T16:48:35.033Z"
   },
   {
    "duration": 6,
    "start_time": "2024-09-26T16:48:42.692Z"
   },
   {
    "duration": 5,
    "start_time": "2024-09-26T17:15:04.761Z"
   },
   {
    "duration": 2452,
    "start_time": "2024-09-26T22:28:01.206Z"
   },
   {
    "duration": 63,
    "start_time": "2024-09-26T22:28:03.660Z"
   },
   {
    "duration": 9,
    "start_time": "2024-09-26T22:28:03.725Z"
   },
   {
    "duration": 11,
    "start_time": "2024-09-26T22:28:03.737Z"
   },
   {
    "duration": 8,
    "start_time": "2024-09-26T22:28:03.750Z"
   },
   {
    "duration": 4,
    "start_time": "2024-09-26T22:28:03.760Z"
   },
   {
    "duration": 6,
    "start_time": "2024-09-26T22:28:03.766Z"
   },
   {
    "duration": 8,
    "start_time": "2024-09-26T22:28:03.773Z"
   },
   {
    "duration": 7,
    "start_time": "2024-09-26T22:28:03.783Z"
   },
   {
    "duration": 41,
    "start_time": "2024-09-26T22:28:03.793Z"
   },
   {
    "duration": 300,
    "start_time": "2024-09-26T22:28:03.836Z"
   },
   {
    "duration": 259,
    "start_time": "2024-09-26T22:28:04.138Z"
   },
   {
    "duration": 7,
    "start_time": "2024-09-26T22:28:04.399Z"
   },
   {
    "duration": 25,
    "start_time": "2024-09-26T22:28:04.408Z"
   },
   {
    "duration": 9,
    "start_time": "2024-09-26T22:28:04.435Z"
   },
   {
    "duration": 5,
    "start_time": "2024-09-26T22:28:04.446Z"
   },
   {
    "duration": 9,
    "start_time": "2024-09-26T22:28:04.452Z"
   },
   {
    "duration": 4,
    "start_time": "2024-09-26T22:28:04.463Z"
   },
   {
    "duration": 4,
    "start_time": "2024-09-26T22:28:04.469Z"
   },
   {
    "duration": 9,
    "start_time": "2024-09-26T22:28:04.475Z"
   },
   {
    "duration": 4,
    "start_time": "2024-09-26T22:28:04.486Z"
   },
   {
    "duration": 49,
    "start_time": "2024-09-26T22:28:04.491Z"
   },
   {
    "duration": 169,
    "start_time": "2024-09-26T22:28:04.541Z"
   },
   {
    "duration": 5,
    "start_time": "2024-09-26T22:28:04.712Z"
   }
  ],
  "kernelspec": {
   "display_name": "Python 3 (ipykernel)",
   "language": "python",
   "name": "python3"
  },
  "language_info": {
   "codemirror_mode": {
    "name": "ipython",
    "version": 3
   },
   "file_extension": ".py",
   "mimetype": "text/x-python",
   "name": "python",
   "nbconvert_exporter": "python",
   "pygments_lexer": "ipython3",
   "version": "3.9.23"
  },
  "toc": {
   "base_numbering": 1,
   "nav_menu": {},
   "number_sections": true,
   "sideBar": true,
   "skip_h1_title": true,
   "title_cell": "Table of Contents",
   "title_sidebar": "Contents",
   "toc_cell": false,
   "toc_position": {
    "height": "calc(100% - 180px)",
    "left": "10px",
    "top": "150px",
    "width": "404.392px"
   },
   "toc_section_display": true,
   "toc_window_display": true
  }
 },
 "nbformat": 4,
 "nbformat_minor": 4
}
